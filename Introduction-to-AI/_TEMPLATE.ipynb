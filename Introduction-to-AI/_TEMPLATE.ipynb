{
 "cells": [
  {
   "cell_type": "code",
   "execution_count": 1,
   "metadata": {},
   "outputs": [],
   "source": [
    "%%capture\n",
    "## [TEMPLATE BEGIN]\n",
    "## おまじない：実行中のノートブック名からOUTPUT_DIRを決めるコード\n",
    "from pathlib import Path\n",
    "from IPython import get_ipython; ip = get_ipython()\n",
    "if '__vsc_ipynb_file__' in ip.user_ns:\n",
    "    ## VS Codeで実行されている場合\n",
    "    THIS_NOTEBOOK_PATH = Path(ip.user_ns['__vsc_ipynb_file__'])\n",
    "else:\n",
    "    !pip install ipynbname\n",
    "    import ipynbname; THIS_NOTEBOOK_PATH = Path(ipynbname.path())\n",
    "    if \"%2F\" in THIS_NOTEBOOK_PATH.stem:\n",
    "        ## Google Colabで実行されている場合\n",
    "        colab_ip = %system hostname -I   # uses colab magic to get list from bash\n",
    "        colab_ip = colab_ip[0].strip()   # returns \"172.28.0.12\"\n",
    "        colab_port = 9000                # could use 6000, 8080, or 9000\n",
    "        import requests\n",
    "        filename = requests.get(f\"http://{colab_ip}:{colab_port}/api/sessions\").json()[0][\"name\"]\n",
    "        THIS_NOTEBOOK_PATH = Path(filename)\n",
    "    else:\n",
    "        ## それ以外の場合\n",
    "        THIS_NOTEBOOK_PATH = THIS_NOTEBOOK_PATH\n",
    "\n",
    "OUTPUT_DIR = Path(\"figures\") / THIS_NOTEBOOK_PATH.stem\n",
    "## [TEMPLATE END]"
   ]
  },
  {
   "cell_type": "code",
   "execution_count": null,
   "metadata": {},
   "outputs": [],
   "source": [
    "print(\"File output directory:\", OUTPUT_DIR)\n",
    "# Create the output directory if it does not exist\n",
    "OUTPUT_DIR.mkdir(parents=True, exist_ok=True)"
   ]
  },
  {
   "cell_type": "code",
   "execution_count": null,
   "metadata": {},
   "outputs": [],
   "source": []
  }
 ],
 "metadata": {
  "kernelspec": {
   "display_name": "introduction-to-ai-8EYib14p-py3.11",
   "language": "python",
   "name": "python3"
  },
  "language_info": {
   "codemirror_mode": {
    "name": "ipython",
    "version": 3
   },
   "file_extension": ".py",
   "mimetype": "text/x-python",
   "name": "python",
   "nbconvert_exporter": "python",
   "pygments_lexer": "ipython3",
   "version": "3.11.1"
  }
 },
 "nbformat": 4,
 "nbformat_minor": 2
}
