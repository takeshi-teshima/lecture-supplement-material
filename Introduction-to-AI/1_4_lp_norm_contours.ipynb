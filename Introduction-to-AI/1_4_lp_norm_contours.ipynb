{
 "cells": [
  {
   "cell_type": "code",
   "execution_count": 2,
   "metadata": {},
   "outputs": [
    {
     "name": "stderr",
     "output_type": "stream",
     "text": [
      "/var/folders/rs/z4yf99dx0wx_lqfdhc3l3dt40000gn/T/ipykernel_83842/135779434.py:57: MatplotlibDeprecationWarning: The collections attribute was deprecated in Matplotlib 3.8 and will be removed in 3.10.\n",
      "  for collection in cp.collections:\n"
     ]
    },
    {
     "name": "stdout",
     "output_type": "stream",
     "text": [
      "Contour plots saved successfully.\n"
     ]
    }
   ],
   "source": [
    "import numpy as np\n",
    "import matplotlib.pyplot as plt\n",
    "from pathlib import Path\n",
    "import matplotlib.colors as mcolors\n",
    "\n",
    "# Define the color palette\n",
    "colors = {\n",
    "    \"white\": \"#FFFFFF\",\n",
    "    \"light_gray\": \"#D3D3D3\",\n",
    "    \"gray\": \"#808080\",\n",
    "    \"black\": \"#000000\",\n",
    "    \"green\": \"#008000\",\n",
    "    \"blue\": \"#0000FF\",\n",
    "    \"light_blue\": \"#ADD8E6\",\n",
    "    \"light_light_blue\": \"#E0FFFF\",\n",
    "    \"yellow\": \"#FFFF00\",\n",
    "    \"orange\": \"#FFA500\",\n",
    "    \"dark_orange\": \"#FF8C00\",\n",
    "    \"purple\": \"#800080\"\n",
    "}\n",
    "\n",
    "# Create a colormap from dark_orange to blue\n",
    "cmap = mcolors.LinearSegmentedColormap.from_list(\"custom_cmap\", [colors[\"dark_orange\"], colors[\"blue\"]])\n",
    "\n",
    "# Create a meshgrid\n",
    "x = np.linspace(-1, 1, 400)\n",
    "y = np.linspace(-1, 1, 400)\n",
    "X, Y = np.meshgrid(x, y)\n",
    "\n",
    "# List of p values, excluding 0\n",
    "p_values = [0.5, 1.0, 1.5, 2.0, 2.5, 10.0, np.inf]\n",
    "\n",
    "# Ensure the output directory exists\n",
    "output_dir = Path('figures/1_4')\n",
    "output_dir.mkdir(parents=True, exist_ok=True)\n",
    "\n",
    "for p in p_values:\n",
    "    # Compute the Lp norm\n",
    "    if p == np.inf:\n",
    "        Z = np.maximum(np.abs(X), np.abs(Y))  # p = infinity norm as max of absolute values\n",
    "        p_label = 'infty'\n",
    "        title_p = '\\\\infty'\n",
    "    else:\n",
    "        Z = (np.abs(X)**p + np.abs(Y)**p)**(1/p)\n",
    "        p_label = p\n",
    "        title_p = p\n",
    "    \n",
    "    # Restrict the range of Z to ensure the largest contours are within the visible region\n",
    "    Z = np.clip(Z, 0, 1)\n",
    "    \n",
    "    # Create the plot\n",
    "    fig, ax = plt.subplots(figsize=(6, 6))  # Ensure the figure is square\n",
    "    levels = np.linspace(0, 1, 10)  # Use 10 contour levels, but limit the range\n",
    "    cp = ax.contour(X, Y, Z, levels=levels, cmap=cmap)  # Use the custom colormap for gradual coloring\n",
    "\n",
    "    # Filter out the contours that extend beyond the visible region\n",
    "    for collection in cp.collections:\n",
    "        paths = collection.get_paths()\n",
    "        paths_inside = []\n",
    "        for path in paths:\n",
    "            # Check if all vertices are inside the bounds [-1, 1]\n",
    "            if np.all((path.vertices[:, 0] >= -1) & (path.vertices[:, 0] <= 1) &\n",
    "                      (path.vertices[:, 1] >= -1) & (path.vertices[:, 1] <= 1)):\n",
    "                paths_inside.append(path)\n",
    "        collection.set_paths(paths_inside)\n",
    "\n",
    "    ax.set_title(f'Contour plot of $\\\\|\\\\boldsymbol{{x}}\\\\|_{{{title_p}}}$')\n",
    "    ax.set_xlabel('')\n",
    "    ax.set_ylabel('')\n",
    "    ax.set_xlim([-1, 1])\n",
    "    ax.set_ylim([-1, 1])\n",
    "    ax.set_aspect('equal')  # Ensure the aspect ratio is equal\n",
    "\n",
    "    # Save the plot\n",
    "    plt.savefig(output_dir / f'1_4_lp_norm_{p_label}.png', bbox_inches='tight', pad_inches=0)\n",
    "    plt.close(fig)\n",
    "\n",
    "print(\"Contour plots saved successfully.\")\n"
   ]
  }
 ],
 "metadata": {
  "kernelspec": {
   "display_name": ".venv",
   "language": "python",
   "name": "python3"
  },
  "language_info": {
   "codemirror_mode": {
    "name": "ipython",
    "version": 3
   },
   "file_extension": ".py",
   "mimetype": "text/x-python",
   "name": "python",
   "nbconvert_exporter": "python",
   "pygments_lexer": "ipython3",
   "version": "3.11.1"
  }
 },
 "nbformat": 4,
 "nbformat_minor": 2
}
