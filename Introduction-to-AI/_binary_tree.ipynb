{
 "cells": [
  {
   "cell_type": "code",
   "execution_count": 3,
   "metadata": {},
   "outputs": [],
   "source": [
    "%%capture\n",
    "## [TEMPLATE BEGIN]\n",
    "## おまじない：実行中のノートブック名からOUTPUT_DIRを決めるコード\n",
    "from pathlib import Path\n",
    "from IPython import get_ipython; ip = get_ipython()\n",
    "if '__vsc_ipynb_file__' in ip.user_ns:\n",
    "    ## VS Codeで実行されている場合\n",
    "    THIS_NOTEBOOK_PATH = Path(ip.user_ns['__vsc_ipynb_file__'])\n",
    "else:\n",
    "    !pip install ipynbname\n",
    "    import ipynbname; THIS_NOTEBOOK_PATH = Path(ipynbname.path())\n",
    "    if \"%2F\" in THIS_NOTEBOOK_PATH.stem:\n",
    "        ## Google Colabで実行されている場合\n",
    "        colab_ip = %system hostname -I   # uses colab magic to get list from bash\n",
    "        colab_ip = colab_ip[0].strip()   # returns \"172.28.0.12\"\n",
    "        colab_port = 9000                # could use 6000, 8080, or 9000\n",
    "        import requests\n",
    "        filename = requests.get(f\"http://{colab_ip}:{colab_port}/api/sessions\").json()[0][\"name\"]\n",
    "        THIS_NOTEBOOK_PATH = Path(filename)\n",
    "    else:\n",
    "        ## それ以外の場合\n",
    "        THIS_NOTEBOOK_PATH = THIS_NOTEBOOK_PATH\n",
    "\n",
    "OUTPUT_DIR = Path(\"figures\") / THIS_NOTEBOOK_PATH.stem\n",
    "## [TEMPLATE END]"
   ]
  },
  {
   "cell_type": "code",
   "execution_count": 4,
   "metadata": {},
   "outputs": [
    {
     "name": "stdout",
     "output_type": "stream",
     "text": [
      "File output directory: figures/_binary_tree\n"
     ]
    }
   ],
   "source": [
    "print(\"File output directory:\", OUTPUT_DIR)\n",
    "# Create the output directory if it does not exist\n",
    "OUTPUT_DIR.mkdir(parents=True, exist_ok=True)"
   ]
  },
  {
   "cell_type": "code",
   "execution_count": 5,
   "metadata": {},
   "outputs": [
    {
     "name": "stdout",
     "output_type": "stream",
     "text": [
      "Requirement already satisfied: networkx in ./.venv/lib/python3.11/site-packages (3.3)\n",
      "\n",
      "\u001b[1m[\u001b[0m\u001b[34;49mnotice\u001b[0m\u001b[1;39;49m]\u001b[0m\u001b[39;49m A new release of pip is available: \u001b[0m\u001b[31;49m23.2.1\u001b[0m\u001b[39;49m -> \u001b[0m\u001b[32;49m24.1.2\u001b[0m\n",
      "\u001b[1m[\u001b[0m\u001b[34;49mnotice\u001b[0m\u001b[1;39;49m]\u001b[0m\u001b[39;49m To update, run: \u001b[0m\u001b[32;49mpip install --upgrade pip\u001b[0m\n"
     ]
    }
   ],
   "source": [
    "!pip install networkx"
   ]
  },
  {
   "cell_type": "code",
   "execution_count": 6,
   "metadata": {},
   "outputs": [
    {
     "data": {
      "image/png": "[encoded data removed]",
      "text/plain": [
       "<Figure size 800x600 with 1 Axes>"
      ]
     },
     "metadata": {},
     "output_type": "display_data"
    }
   ],
   "source": [
    "import matplotlib.pyplot as plt\n",
    "import networkx as nx\n",
    "from pathlib import Path\n",
    "\n",
    "# グラフの生成\n",
    "G = nx.Graph()\n",
    "\n",
    "# ノードの追加\n",
    "nodes = ['root', 'left', 'right', 'left_left', 'left_right', 'left_right_left', 'left_right_right', 'right_right']\n",
    "for node in nodes:\n",
    "    G.add_node(node)\n",
    "\n",
    "# エッジの追加\n",
    "edges = [('root', 'left'), ('root', 'right'), \n",
    "         ('left', 'left_left'), ('left', 'left_right'), \n",
    "         ('left_right', 'left_right_left'), ('left_right', 'left_right_right'),\n",
    "         ('right', 'right_right')]\n",
    "G.add_edges_from(edges)\n",
    "\n",
    "# ノードの位置の設定\n",
    "pos = {\n",
    "    'root': (0, 4),\n",
    "    'left': (-1, 3), 'right': (1, 3),\n",
    "    'left_left': (-1.5, 2), 'left_right': (-0.5, 2),\n",
    "    'left_right_left': (-0.75, 1), 'left_right_right': (-0.25, 1),\n",
    "    'right_right': (1.5, 2)\n",
    "}\n",
    "\n",
    "# プロットの設定\n",
    "plt.figure(figsize=(8, 6))\n",
    "nx.draw(G, pos, with_labels=False, node_size=700, node_color=\"white\", edge_color=\"black\", linewidths=3)\n",
    "nx.draw_networkx_nodes(G, pos, node_size=700, node_color=\"white\", edgecolors='black', linewidths=3)\n",
    "\n",
    "# 保存と表示\n",
    "output_path = Path(OUTPUT_DIR / 'binary_tree.png')\n",
    "output_path.parent.mkdir(parents=True, exist_ok=True)\n",
    "plt.savefig(output_path, bbox_inches='tight', pad_inches=0)\n",
    "plt.show()\n",
    "plt.show()"
   ]
  }
 ],
 "metadata": {
  "kernelspec": {
   "display_name": "introduction-to-ai-8EYib14p-py3.11",
   "language": "python",
   "name": "python3"
  },
  "language_info": {
   "codemirror_mode": {
    "name": "ipython",
    "version": 3
   },
   "file_extension": ".py",
   "mimetype": "text/x-python",
   "name": "python",
   "nbconvert_exporter": "python",
   "pygments_lexer": "ipython3",
   "version": "3.11.1"
  }
 },
 "nbformat": 4,
 "nbformat_minor": 2
}
